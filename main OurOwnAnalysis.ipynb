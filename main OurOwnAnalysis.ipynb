{
 "cells": [
  {
   "cell_type": "markdown",
   "metadata": {},
   "source": [
    "## Exploring ChatGPT4's advanced data analysis\n",
    "\n",
    "- Let's see the basics of its analysis, can it describe a dataset to us well\n",
    "\n",
    "- Can GPT tell us what it can guess about the data, and does its guess bear out when we look ourselves?\n",
    "\n",
    "- Does using custom instructions make any difference about what it can reason?\n",
    "    - Custom instructions are (IIRC) an exact copy of that in Jeremy Howard's talk <a href = \"https://www.youtube.com/watch?v=jkrNMKz9pWU\">\"A Hackers' Guide to Language Models\"</a>\n",
    "\n"
   ]
  },
  {
   "cell_type": "markdown",
   "metadata": {},
   "source": [
    "### Specific questions about the dataset\n",
    "\n",
    "- One column, ```'previous_outcome'```, has nulls.  Why?\n",
    "\n",
    "- Given the column names and data, I would guess that ```'previous_outcome'``` indicates a past success or failure with a particular campaign. (\"Did the customer buy this product?\") \n",
    "\n",
    "    - Given lots of NaNs, I'd guess that a null value for a prior outcome means that another column, ```'previous_campaign_contacts'``` would be 0 for this customer  \n",
    "\n",
    "    - Does this bear out in all cases in this dataset?  (A: Yes)\n",
    "\n",
    "### Can GPT4 also get to this logic given the column names and data?\n",
    "   \n",
    "- Ask it if it knows why a column doesnt have data, and why\n",
    "\n",
    "- Ask it for a recommendation for what to do\n"
   ]
  },
  {
   "cell_type": "markdown",
   "metadata": {},
   "source": [
    "``` python\n",
    "    import pandas as pd\n",
    "    file_path = 'data/campaign.csv'\n",
    "    df = pd.read_csv(file_path)\n",
    "\n",
    "    # what is the range of values that both columns have\n",
    "\n",
    "    unique_pcc = pd.unique(df['previous_campaign_contacts'])\n",
    "    unique_pcc\n",
    "    # array([0, 1, 2, 3, 4, 5, 6, 7], dtype=int64)\n",
    "\n",
    "    unique_outcome = pd.unique(df['previous_outcome'])\n",
    "    unique_outcome\n",
    "    # array([nan,  0.,  1.])\n",
    "\n",
    "    # Find unique values of outcome when previous_campaign_contacts is 0\n",
    "    unique_outcomes_if_pcc_0 = df[df['previous_campaign_contacts'] == 0]['previous_outcome'].unique()\n",
    "    unique_outcomes_if_pcc_0\n",
    "\n",
    "        # array([nan])\n",
    "\n",
    "    # Find uniq vals of outcome if pcc is greater than 0\n",
    "    unique_outcomes_if_pcc_1 = df[df['previous_campaign_contacts'] > 0]['previous_outcome'].unique()\n",
    "    unique_outcomes_if_pcc_1\n",
    "\n",
    "        # array([0., 1.])\n",
    "\n",
    "```\n"
   ]
  }
 ],
 "metadata": {
  "kernelspec": {
   "display_name": "venv",
   "language": "python",
   "name": "python3"
  },
  "language_info": {
   "codemirror_mode": {
    "name": "ipython",
    "version": 3
   },
   "file_extension": ".py",
   "mimetype": "text/x-python",
   "name": "python",
   "nbconvert_exporter": "python",
   "pygments_lexer": "ipython3",
   "version": "3.11.5"
  }
 },
 "nbformat": 4,
 "nbformat_minor": 2
}
