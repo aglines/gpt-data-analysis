{
 "cells": [
  {
   "cell_type": "markdown",
   "metadata": {},
   "source": [
    "### Exploring ChatGPT4's advanced data analysis\n",
    "\n",
    "- Let's see the basics of its analysis\n",
    "- Can GPT tell us what it can guess about the data, and does its guess bear out when we look ourselves?\n",
    "- Does using custom instructions make any difference about what it can reason?\n",
    "\n",
    "- This branch used custom instructions (provided in repo & exact copy of that in Jeremy Howard's talk )\n",
    "    - https://www.youtube.com/watch?v=jkrNMKz9pWU\n",
    "\n"
   ]
  },
  {
   "cell_type": "code",
   "execution_count": 12,
   "metadata": {},
   "outputs": [
    {
     "data": {
      "text/plain": [
       "array([0., 1.])"
      ]
     },
     "execution_count": 12,
     "metadata": {},
     "output_type": "execute_result"
    }
   ],
   "source": [
    "import pandas as pd\n",
    "# Load the dataset to inspect its structure\n",
    "file_path = 'data/campaign.csv'\n",
    "df = pd.read_csv(file_path)\n",
    "\n",
    "# Is it the case that, for every time there is \n",
    "unique_pcc = pd.unique(df['previous_campaign_contacts'])\n",
    "unique_pcc\n",
    "# any int from 0 to 7\n",
    "\n",
    "unique_outcome = pd.unique(df['previous_outcome'])\n",
    "unique_outcome\n",
    "# NaNs, 0 or 1\n",
    "\n",
    "# compare_pcc = df(['previous_campaign_contacts', 'previous_outcome'])\n",
    "compare_pcc = df[['previous_campaign_contacts', 'previous_outcome']]\n",
    "compare_pcc\n",
    "\n",
    "# Find unique values of outcome when previous_campaign_contacts is 0\n",
    "unique_outcomes_if_pcc_0 = df[df['previous_campaign_contacts'] == 0]['previous_outcome'].unique()\n",
    "unique_outcomes_if_pcc_0\n",
    "# CORRECT, they are all NaN\n",
    "\n",
    "# And the inverse - find uniq vals of outcome if pcc = 1\n",
    "unique_outcomes_if_pcc_1 = df[df['previous_campaign_contacts'] >= 1]['previous_outcome'].unique()\n",
    "unique_outcomes_if_pcc_1\n",
    "# CORRECT, they are all 0 or 1\n",
    "\n",
    "\n",
    "\n"
   ]
  },
  {
   "cell_type": "markdown",
   "metadata": {},
   "source": [
    "questions\n",
    "- ask it if it knows why a column doesnt have data\n",
    "- is there 1 to 1 relationship btwn the cols previous_campaign_contacts and previous_outcome?  \n",
    "- my logic feels that if there is no previous contact, there would be NaN for previous outcome.  \n",
    "    - is this correct in all cases\n",
    "    - can Chat get to this logic given the column names?\n",
    "    \n",
    "\n",
    "Prompt: \"Why do you think there is no data for that one column?  What could be the reason?  How do you recommend we handle this missing data?\"\n",
    "\n",
    "\n",
    "\n",
    "\n"
   ]
  }
 ],
 "metadata": {
  "kernelspec": {
   "display_name": "venv",
   "language": "python",
   "name": "python3"
  },
  "language_info": {
   "codemirror_mode": {
    "name": "ipython",
    "version": 3
   },
   "file_extension": ".py",
   "mimetype": "text/x-python",
   "name": "python",
   "nbconvert_exporter": "python",
   "pygments_lexer": "ipython3",
   "version": "3.11.5"
  }
 },
 "nbformat": 4,
 "nbformat_minor": 2
}
