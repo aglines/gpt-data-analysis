{
 "cells": [
  {
   "cell_type": "markdown",
   "metadata": {},
   "source": [
    "### Exploring ChatGPT4's advanced data analysis\n",
    "\n",
    "- This is fantastic, but also we know there will be weird behavior\n",
    "- Feed it data, ask it to tell me about it, make sure happy path works\n",
    "- Ask it about complexities and see what it can know\n",
    "\n",
    "- This branch used custom instructions (provided in repo & exact copy of that in Jeremy Howard's talk )\n",
    "    - https://www.youtube.com/watch?v=jkrNMKz9pWU\n",
    "\n"
   ]
  },
  {
   "cell_type": "markdown",
   "metadata": {},
   "source": [
    "\n",
    "#### Prompt: Tell me about the datset I will upload here, \"campaign.csv\". \n",
    "\n",
    "#### Response\n",
    "- Using pandas, it runs .info and .head in a hidden code block:\n",
    "\n",
    "``` python\n",
    "        import pandas as pd\n",
    "        # Load the dataset to inspect its structure\n",
    "        file_path = '/mnt/data/campaign.csv'\n",
    "        df = pd.read_csv(file_path)\n",
    "\n",
    "        # Show basic information and first few rows of the dataset\n",
    "        basic_info = df.info()\n",
    "        head_data = df.head()\n",
    "\n",
    "        STDOUT/STDERR\n",
    "\n",
    "        <class 'pandas.core.frame.DataFrame'>\n",
    "        RangeIndex: 41188 entries, 0 to 41187\n",
    "        Data columns (total 10 columns):\n",
    "        #   Column                      Non-Null Count  Dtype  \n",
    "        ---  ------                      --------------  -----  \n",
    "        0   client_id                   41188 non-null  int64  \n",
    "        1   contact                     41188 non-null  object \n",
    "        2   contact_duration            41188 non-null  int64  \n",
    "        3   number_contacts             41188 non-null  int64  \n",
    "        4   pdays                       41188 non-null  int64  \n",
    "        5   previous_campaign_contacts  41188 non-null  int64  \n",
    "        6   previous_outcome            5625 non-null   float64\n",
    "        7   campaign_outcome            41188 non-null  object \n",
    "        8   campaign_id                 41188 non-null  int64  \n",
    "        9   last_contact_date           41188 non-null  object \n",
    "        dtypes: float64(1), int64(6), object(3)\n",
    "        memory usage: 3.1+ MB\n",
    "```\n",
    "\n",
    "- Then it describes the data in a text response:\n",
    "\n",
    "```\n",
    "        The dataset \"campaign.csv\" contains 41,188 entries and 10 columns. Here's a brief overview of the columns:\n",
    "\n",
    "            client_id: Integer, non-null\n",
    "            contact: Object (likely categorical or text), non-null\n",
    "            contact_duration: Integer, non-null\n",
    "            number_contacts: Integer, non-null\n",
    "            pdays: Integer, non-null\n",
    "            previous_campaign_contacts: Integer, non-null\n",
    "            previous_outcome: Float, contains null values\n",
    "            campaign_outcome: Object (likely categorical or text), non-null\n",
    "            campaign_id: Integer, non-null\n",
    "            last_contact_date: Object (likely a date), non-null\n",
    "\n",
    "        Notably, the previous_outcome column has missing values, which you may need to handle depending on your analysis or model training requirements.\n",
    "\n",
    "        Would you like to know more about the statistical properties or unique values in specific columns?​​\n",
    "```\n"
   ]
  },
  {
   "cell_type": "markdown",
   "metadata": {},
   "source": [
    "questions\n",
    "- ask it if it knows why a column doesnt have data\n",
    "- is there 1 to 1 relationship btwn the cols previous_campaign_contacts and previous_outcome?  \n",
    "- my logic feels that if there is no previous contact, there would be NaN for previous outcome.  \n",
    "    - is this correct in all cases\n",
    "    - can Chat get to this logic given the column names?\n",
    "    \n",
    "\n",
    "Prompt: \"Why do you think there is no data for that one column?  What could be the reason?  How do you recommend we handle this missing data?\"\n",
    "\n",
    "\n",
    "\n",
    "\n"
   ]
  }
 ],
 "metadata": {
  "kernelspec": {
   "display_name": "venv",
   "language": "python",
   "name": "python3"
  },
  "language_info": {
   "codemirror_mode": {
    "name": "ipython",
    "version": 3
   },
   "file_extension": ".py",
   "mimetype": "text/x-python",
   "name": "python",
   "nbconvert_exporter": "python",
   "pygments_lexer": "ipython3",
   "version": "3.11.5"
  }
 },
 "nbformat": 4,
 "nbformat_minor": 2
}
